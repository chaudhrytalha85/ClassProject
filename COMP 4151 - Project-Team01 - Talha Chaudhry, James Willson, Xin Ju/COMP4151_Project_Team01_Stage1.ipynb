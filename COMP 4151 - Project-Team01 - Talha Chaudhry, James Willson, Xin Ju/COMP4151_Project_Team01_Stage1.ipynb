{
 "cells": [
  {
   "cell_type": "markdown",
   "metadata": {},
   "source": [
    "# COMP 4151 - Assignment 5\n",
    "\n",
    "## Due: 10/29/2019 at 11:59PM"
   ]
  },
  {
   "cell_type": "markdown",
   "metadata": {},
   "source": [
    "## Name:"
   ]
  },
  {
   "cell_type": "markdown",
   "metadata": {},
   "source": [
    "**Note**: \n",
    "\n",
    "- All work in this assignment must be done, created, originated from each student. \n",
    "- All external assistance must be explicitly mentioned and cited. \n",
    "- Using work done by others without explicit citation is considered cheating. \n",
    "- A student will receive a zero grade on the assignment for cheating. \n",
    "- Repeated offence will lead to additional consequences."
   ]
  },
  {
   "cell_type": "markdown",
   "metadata": {},
   "source": [
    "This assignment focuses on the first phase of the project.  The dataset can be obtained here: https://umdrive.memphis.edu/vphan/public/4151/BCHI-dataset_2019-03-04.csv\n",
    "\n",
    "Give comprehensive answers to these questions, as much as, possible.  When you answer a question, your answer should be in English. At the same time, if applicable, the answer should consist Python code that shows how you obtain your answer.  People should be able to read and understand your answer without guessing on your behalf how to get the answer.\n",
    "\n"
   ]
  },
  {
   "cell_type": "code",
   "execution_count": 1,
   "metadata": {},
   "outputs": [],
   "source": [
    "import pandas as pd\n",
    "import seaborn as sns"
   ]
  },
  {
   "cell_type": "code",
   "execution_count": 2,
   "metadata": {},
   "outputs": [],
   "source": [
    "bchi = pd.read_csv('https://umdrive.memphis.edu/vphan/public/4151/BCHI-dataset_2019-03-04.csv')"
   ]
  },
  {
   "cell_type": "markdown",
   "metadata": {},
   "source": [
    "1. What is the Indicator attribute?"
   ]
  },
  {
   "cell_type": "markdown",
   "metadata": {},
   "source": [
    "**Indicator** attribute is essentially the defining factors of the of the broad Indicator Categories, which include health, socio-economic, and demographic among others, of a parrticula city for some particular time period and subsection of the city population."
   ]
  },
  {
   "cell_type": "markdown",
   "metadata": {},
   "source": [
    "2. How many categories of Indicator are there?"
   ]
  },
  {
   "cell_type": "code",
   "execution_count": 3,
   "metadata": {},
   "outputs": [
    {
     "name": "stdout",
     "output_type": "stream",
     "text": [
      "Total number of Indicator categories are: 13\n",
      "Total number of Factors for the Indicator categories are: 61\n"
     ]
    }
   ],
   "source": [
    "print('Total number of Indicator categories are:', len(bchi['Indicator Category'].unique()))\n",
    "print('Total number of Factors for the Indicator categories are:', len(bchi['Indicator'].unique()))"
   ]
  },
  {
   "cell_type": "markdown",
   "metadata": {},
   "source": [
    "3. Explain the \"Value\" value of row 26382 in this dataset."
   ]
  },
  {
   "cell_type": "code",
   "execution_count": 4,
   "metadata": {},
   "outputs": [
    {
     "data": {
      "text/plain": [
       "Indicator Category                                 Maternal and Child Health\n",
       "Indicator                      Infant Mortality Rate (Per 1,000 live births)\n",
       "Year                                                                    2010\n",
       "Sex                                                                     Both\n",
       "Race/Ethnicity                                                      Asian/PI\n",
       "Value                                                                      2\n",
       "Place                                                             Denver, CO\n",
       "BCHC Requested Methodology              Infant deaths per 1,000 live births.\n",
       "Source                                                         Vital Records\n",
       "Methods                                                                  NaN\n",
       "Notes                                                                    NaN\n",
       "90% Confidence Level - Low                                               NaN\n",
       "90% Confidence Level - High                                              NaN\n",
       "95% Confidence Level - Low                                               NaN\n",
       "95% Confidence Level - High                                              NaN\n",
       "Name: 26382, dtype: object"
      ]
     },
     "execution_count": 4,
     "metadata": {},
     "output_type": "execute_result"
    }
   ],
   "source": [
    "bchi.loc[26382]"
   ]
  },
  {
   "cell_type": "markdown",
   "metadata": {},
   "source": [
    "The **Value** attribute in this row indicates that the Infant Mortality rate for the year 2010 in Denver, Colorado, was 2 deaths per 1,000 liver births amongst those of Asian/Pacific Islander ethnicity."
   ]
  },
  {
   "cell_type": "markdown",
   "metadata": {},
   "source": [
    "4. Explain the \"Value\" value of row 7833."
   ]
  },
  {
   "cell_type": "code",
   "execution_count": 5,
   "metadata": {},
   "outputs": [
    {
     "data": {
      "text/plain": [
       "Indicator Category                                               Chronic Disease\n",
       "Indicator                      Percent of Adults Who Meet CDC-Recommended Phy...\n",
       "Year                                                                        2011\n",
       "Sex                                                                         Both\n",
       "Race/Ethnicity                                                          Hispanic\n",
       "Value                                                                       44.2\n",
       "Place                                               Oakland (Alameda County), CA\n",
       "BCHC Requested Methodology     BRFSS (or similar survey). Percent of populati...\n",
       "Source                                                          CHIS- 2005, 2009\n",
       "Methods                        Adults 18+ years, Moderate physical activity a...\n",
       "Notes                                                                        NaN\n",
       "90% Confidence Level - Low                                                   NaN\n",
       "90% Confidence Level - High                                                  NaN\n",
       "95% Confidence Level - Low                                                   NaN\n",
       "95% Confidence Level - High                                                  NaN\n",
       "Name: 7833, dtype: object"
      ]
     },
     "execution_count": 5,
     "metadata": {},
     "output_type": "execute_result"
    }
   ],
   "source": [
    "bchi.loc[7833]"
   ]
  },
  {
   "cell_type": "markdown",
   "metadata": {},
   "source": [
    "This **Value** is a percentage of the adult population (18+ years) of Hispanic ethnicity in Oakland (Alameda County), California, that met the CDC's recommended physical activity levels in 2011. The value is 44.2%."
   ]
  },
  {
   "cell_type": "markdown",
   "metadata": {},
   "source": [
    "5. Explain the \"Value\" value of row 10682.  What does it mean that the \"Sex\" value is \"Both\"?"
   ]
  },
  {
   "cell_type": "code",
   "execution_count": 6,
   "metadata": {},
   "outputs": [
    {
     "data": {
      "text/plain": [
       "Indicator Category                                                  Demographics\n",
       "Indicator                                Percent of Population with a Disability\n",
       "Year                                                                        2016\n",
       "Sex                                                                         Both\n",
       "Race/Ethnicity                                                          Hispanic\n",
       "Value                                                                        8.9\n",
       "Place                                                            Los Angeles, CA\n",
       "BCHC Requested Methodology     Percentage of the population with a disability...\n",
       "Source                         US Census Bureau, American Community Survey 1-...\n",
       "Methods                                                                      NaN\n",
       "Notes                                                                        NaN\n",
       "90% Confidence Level - Low                                                   NaN\n",
       "90% Confidence Level - High                                                  NaN\n",
       "95% Confidence Level - Low                                                   NaN\n",
       "95% Confidence Level - High                                                  NaN\n",
       "Name: 10682, dtype: object"
      ]
     },
     "execution_count": 6,
     "metadata": {},
     "output_type": "execute_result"
    }
   ],
   "source": [
    "bchi.loc[10682]"
   ]
  },
  {
   "cell_type": "markdown",
   "metadata": {},
   "source": [
    "This **Value** is also a percentage. Its the proportion of the Hispanic population in Los Angeles, California, that had a disablity in 2016 according to the US Census Bureau. The value is 8.9%. The **Sex** attribute in this case is both, indicating that both males and females are included as a whole while calculating this value."
   ]
  },
  {
   "cell_type": "markdown",
   "metadata": {},
   "source": [
    "6. Explain the \"Value\" value of row 26701."
   ]
  },
  {
   "cell_type": "code",
   "execution_count": 7,
   "metadata": {},
   "outputs": [
    {
     "data": {
      "text/plain": [
       "Indicator Category                                     Maternal and Child Health\n",
       "Indicator                          Infant Mortality Rate (Per 1,000 live births)\n",
       "Year                                                                        2012\n",
       "Sex                                                                         Both\n",
       "Race/Ethnicity                                                             White\n",
       "Value                                                                          5\n",
       "Place                                                            San Antonio, TX\n",
       "BCHC Requested Methodology                  Infant deaths per 1,000 live births.\n",
       "Source                         Bexar County resident, SA Metro Health Birth a...\n",
       "Methods                                                                      NaN\n",
       "Notes                                                     Bexar County Residents\n",
       "90% Confidence Level - Low                                                   NaN\n",
       "90% Confidence Level - High                                                  NaN\n",
       "95% Confidence Level - Low                                                   NaN\n",
       "95% Confidence Level - High                                                  NaN\n",
       "Name: 26701, dtype: object"
      ]
     },
     "execution_count": 7,
     "metadata": {},
     "output_type": "execute_result"
    }
   ],
   "source": [
    "bchi.loc[26701]"
   ]
  },
  {
   "cell_type": "markdown",
   "metadata": {},
   "source": [
    "The Value attribute in this row indicates that the Infant Mortality rate for the year 2012 in San Antonio, Texas, is 5 deaths per 1,000 liver births amongst those of Caucasian ethnicity. The **Notes** indicate that this encompasses the entire Bexar County, not just San Antonio."
   ]
  },
  {
   "cell_type": "markdown",
   "metadata": {},
   "source": [
    "7. Specifically, which factors does the indicator category 'Social and Economic Factors' consist of?"
   ]
  },
  {
   "cell_type": "code",
   "execution_count": 8,
   "metadata": {
    "scrolled": true
   },
   "outputs": [
    {
     "name": "stdout",
     "output_type": "stream",
     "text": [
      "The Social and Economic Factors are: {'Percent of Households Whose Housing Costs Exceed 35% of Income', 'Percent of Children Living in Poverty', 'Percent of Population Uninsured', 'Percent Unemployed', 'Median Household Income (Dollars)', 'Percent Living Below 200% Poverty Level', 'Percent of 3 and 4 Year Olds Currently Enrolled in Preschool', 'Percent of High School Graduates (Over Age 18)'}\n"
     ]
    }
   ],
   "source": [
    "A = set(bchi.loc[bchi['Indicator Category'] == 'Social and Economic Factors'].Indicator.unique())\n",
    "\n",
    "print('The Social and Economic Factors are:', A)"
   ]
  },
  {
   "cell_type": "markdown",
   "metadata": {},
   "source": [
    "8. Visualize (e.g. with seaborn) the suicide rate of some specific race in the 3 most populous and 3 least populous cities over the period of the seven years. Explain in English each step, and show your Python code of each step."
   ]
  },
  {
   "cell_type": "code",
   "execution_count": 17,
   "metadata": {},
   "outputs": [],
   "source": [
    "df = bchi"
   ]
  },
  {
   "cell_type": "markdown",
   "metadata": {},
   "source": [
    "We only have statistics for 2012 through 2016 for population. Therefore we'll just use 2016's value to sort the cities instead of selecting the cities differently every year (the results would probalby be about the same anyways). "
   ]
  },
  {
   "cell_type": "code",
   "execution_count": 10,
   "metadata": {},
   "outputs": [
    {
     "data": {
      "text/plain": [
       "array([2012, 2013, 2014, 2015, 2016], dtype=int64)"
      ]
     },
     "execution_count": 10,
     "metadata": {},
     "output_type": "execute_result"
    }
   ],
   "source": [
    "df.loc[df['Indicator'] == 'Total Population (People)']['Year'].unique()"
   ]
  },
  {
   "cell_type": "markdown",
   "metadata": {},
   "source": [
    "Our 7 year span will be from 2010 to 2016 as that is the data we have."
   ]
  },
  {
   "cell_type": "code",
   "execution_count": 11,
   "metadata": {},
   "outputs": [
    {
     "data": {
      "text/plain": [
       "array([2010, 2011, 2012, 2013, 2014, 2015, 2016], dtype=int64)"
      ]
     },
     "execution_count": 11,
     "metadata": {},
     "output_type": "execute_result"
    }
   ],
   "source": [
    "years = df.loc[df['Indicator'] == 'Suicide Rate (Age-Adjusted; Per 100,000 people)']['Year'].unique()\n",
    "years"
   ]
  },
  {
   "cell_type": "markdown",
   "metadata": {},
   "source": [
    "We select all the suicide rates then join in the population values of the cities."
   ]
  },
  {
   "cell_type": "code",
   "execution_count": 12,
   "metadata": {},
   "outputs": [],
   "source": [
    "race = \"White\" # you can set this to whatever you want\n",
    "\n",
    "suicide_rates = df.loc[(df['Indicator'] == 'Suicide Rate (Age-Adjusted; Per 100,000 people)') &\n",
    "              (df['Race/Ethnicity'] == race)]\n",
    "populations = df.loc[(df['Indicator'] == 'Total Population (People)') & (df['Place'] != 'U.S. Total, U.S. Total') \n",
    "                     & (df['Year'] == 2016)]\n",
    "# Join population values onto suicide rates\n",
    "rates = suicide_rates.set_index('Place').join(populations[['Place', 'Value']].set_index('Place'), rsuffix='_Population')"
   ]
  },
  {
   "cell_type": "markdown",
   "metadata": {},
   "source": [
    "We then find the mean of the suicide rate for the three greatest and the three least populous cities each year"
   ]
  },
  {
   "cell_type": "code",
   "execution_count": 13,
   "metadata": {},
   "outputs": [],
   "source": [
    "high_pop_rates, low_pop_rates = [], []\n",
    "for year in years:\n",
    "    # Select the three greatest and least cities with respect to population \n",
    "    # might change for years where statistics are missing\n",
    "    sorted_rates = rates.loc[rates['Year'] == year].sort_values(by='Value_Population')\n",
    "    greatest, least = sorted_rates[:-4:-1], sorted_rates[:3]\n",
    "    high_pop_rates.append(greatest['Value'].mean())\n",
    "    low_pop_rates.append(least['Value'].mean())"
   ]
  },
  {
   "cell_type": "markdown",
   "metadata": {},
   "source": [
    "We convert it to a form we can easily plot"
   ]
  },
  {
   "cell_type": "code",
   "execution_count": 14,
   "metadata": {},
   "outputs": [
    {
     "data": {
      "text/html": [
       "<div>\n",
       "<style scoped>\n",
       "    .dataframe tbody tr th:only-of-type {\n",
       "        vertical-align: middle;\n",
       "    }\n",
       "\n",
       "    .dataframe tbody tr th {\n",
       "        vertical-align: top;\n",
       "    }\n",
       "\n",
       "    .dataframe thead th {\n",
       "        text-align: right;\n",
       "    }\n",
       "</style>\n",
       "<table border=\"1\" class=\"dataframe\">\n",
       "  <thead>\n",
       "    <tr style=\"text-align: right;\">\n",
       "      <th></th>\n",
       "      <th>Mean Suicide Rate (Percent)</th>\n",
       "      <th>Population</th>\n",
       "      <th>Year</th>\n",
       "    </tr>\n",
       "  </thead>\n",
       "  <tbody>\n",
       "    <tr>\n",
       "      <th>0</th>\n",
       "      <td>11.033333</td>\n",
       "      <td>3 Highest Population Cities</td>\n",
       "      <td>2010</td>\n",
       "    </tr>\n",
       "    <tr>\n",
       "      <th>1</th>\n",
       "      <td>9.566667</td>\n",
       "      <td>3 Highest Population Cities</td>\n",
       "      <td>2011</td>\n",
       "    </tr>\n",
       "    <tr>\n",
       "      <th>2</th>\n",
       "      <td>10.633333</td>\n",
       "      <td>3 Highest Population Cities</td>\n",
       "      <td>2012</td>\n",
       "    </tr>\n",
       "    <tr>\n",
       "      <th>3</th>\n",
       "      <td>14.100000</td>\n",
       "      <td>3 Highest Population Cities</td>\n",
       "      <td>2013</td>\n",
       "    </tr>\n",
       "    <tr>\n",
       "      <th>4</th>\n",
       "      <td>14.466667</td>\n",
       "      <td>3 Highest Population Cities</td>\n",
       "      <td>2014</td>\n",
       "    </tr>\n",
       "    <tr>\n",
       "      <th>5</th>\n",
       "      <td>14.433333</td>\n",
       "      <td>3 Highest Population Cities</td>\n",
       "      <td>2015</td>\n",
       "    </tr>\n",
       "    <tr>\n",
       "      <th>6</th>\n",
       "      <td>14.033333</td>\n",
       "      <td>3 Highest Population Cities</td>\n",
       "      <td>2016</td>\n",
       "    </tr>\n",
       "    <tr>\n",
       "      <th>7</th>\n",
       "      <td>12.700000</td>\n",
       "      <td>3 Lowest Population Cities</td>\n",
       "      <td>2010</td>\n",
       "    </tr>\n",
       "    <tr>\n",
       "      <th>8</th>\n",
       "      <td>15.600000</td>\n",
       "      <td>3 Lowest Population Cities</td>\n",
       "      <td>2011</td>\n",
       "    </tr>\n",
       "    <tr>\n",
       "      <th>9</th>\n",
       "      <td>12.933333</td>\n",
       "      <td>3 Lowest Population Cities</td>\n",
       "      <td>2012</td>\n",
       "    </tr>\n",
       "    <tr>\n",
       "      <th>10</th>\n",
       "      <td>19.033333</td>\n",
       "      <td>3 Lowest Population Cities</td>\n",
       "      <td>2013</td>\n",
       "    </tr>\n",
       "    <tr>\n",
       "      <th>11</th>\n",
       "      <td>17.733333</td>\n",
       "      <td>3 Lowest Population Cities</td>\n",
       "      <td>2014</td>\n",
       "    </tr>\n",
       "    <tr>\n",
       "      <th>12</th>\n",
       "      <td>20.033333</td>\n",
       "      <td>3 Lowest Population Cities</td>\n",
       "      <td>2015</td>\n",
       "    </tr>\n",
       "    <tr>\n",
       "      <th>13</th>\n",
       "      <td>17.566667</td>\n",
       "      <td>3 Lowest Population Cities</td>\n",
       "      <td>2016</td>\n",
       "    </tr>\n",
       "  </tbody>\n",
       "</table>\n",
       "</div>"
      ],
      "text/plain": [
       "    Mean Suicide Rate (Percent)                   Population  Year\n",
       "0                     11.033333  3 Highest Population Cities  2010\n",
       "1                      9.566667  3 Highest Population Cities  2011\n",
       "2                     10.633333  3 Highest Population Cities  2012\n",
       "3                     14.100000  3 Highest Population Cities  2013\n",
       "4                     14.466667  3 Highest Population Cities  2014\n",
       "5                     14.433333  3 Highest Population Cities  2015\n",
       "6                     14.033333  3 Highest Population Cities  2016\n",
       "7                     12.700000   3 Lowest Population Cities  2010\n",
       "8                     15.600000   3 Lowest Population Cities  2011\n",
       "9                     12.933333   3 Lowest Population Cities  2012\n",
       "10                    19.033333   3 Lowest Population Cities  2013\n",
       "11                    17.733333   3 Lowest Population Cities  2014\n",
       "12                    20.033333   3 Lowest Population Cities  2015\n",
       "13                    17.566667   3 Lowest Population Cities  2016"
      ]
     },
     "execution_count": 14,
     "metadata": {},
     "output_type": "execute_result"
    }
   ],
   "source": [
    "data = pd.DataFrame()\n",
    "data['Mean Suicide Rate (Percent)'] = high_pop_rates + low_pop_rates\n",
    "data['Population'] = ['3 Highest Population Cities'] * 7 + ['3 Lowest Population Cities'] * 7\n",
    "data['Year'] = list(years) + list(years)\n",
    "data"
   ]
  },
  {
   "cell_type": "markdown",
   "metadata": {},
   "source": [
    "Finally, make lineplot..."
   ]
  },
  {
   "cell_type": "code",
   "execution_count": 15,
   "metadata": {},
   "outputs": [
    {
     "data": {
      "text/plain": [
       "<matplotlib.axes._subplots.AxesSubplot at 0x1eca73afe48>"
      ]
     },
     "execution_count": 15,
     "metadata": {},
     "output_type": "execute_result"
    },
    {
     "data": {
      "image/png": "[encoded data removed]",
      "text/plain": [
       "<Figure size 432x288 with 1 Axes>"
      ]
     },
     "metadata": {
      "needs_background": "light"
     },
     "output_type": "display_data"
    }
   ],
   "source": [
    "sns.lineplot(x='Year', y='Mean Suicide Rate (Percent)', hue='Population', data=data)"
   ]
  },
  {
   "cell_type": "markdown",
   "metadata": {},
   "source": [
    "and a barplot."
   ]
  },
  {
   "cell_type": "code",
   "execution_count": 16,
   "metadata": {},
   "outputs": [
    {
     "data": {
      "text/plain": [
       "<matplotlib.axes._subplots.AxesSubplot at 0x1eca67b3780>"
      ]
     },
     "execution_count": 16,
     "metadata": {},
     "output_type": "execute_result"
    },
    {
     "data": {
      "image/png": "[encoded data removed]",
      "text/plain": [
       "<Figure size 432x288 with 1 Axes>"
      ]
     },
     "metadata": {
      "needs_background": "light"
     },
     "output_type": "display_data"
    }
   ],
   "source": [
    "sns.barplot(x='Year', y='Mean Suicide Rate (Percent)', hue='Population', data=data)"
   ]
  }
 ],
 "metadata": {
  "anaconda-cloud": {},
  "kernelspec": {
   "display_name": "Python 3",
   "language": "python",
   "name": "python3"
  },
  "language_info": {
   "codemirror_mode": {
    "name": "ipython",
    "version": 3
   },
   "file_extension": ".py",
   "mimetype": "text/x-python",
   "name": "python",
   "nbconvert_exporter": "python",
   "pygments_lexer": "ipython3",
   "version": "3.7.4"
  }
 },
 "nbformat": 4,
 "nbformat_minor": 4
}
